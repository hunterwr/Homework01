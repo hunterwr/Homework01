{
 "cells": [
  {
   "cell_type": "code",
   "execution_count": 1,
   "metadata": {},
   "outputs": [],
   "source": [
    "# Homework 01\n",
    "# Hunter Rogers \n",
    "# Machine Learning"
   ]
  },
  {
   "cell_type": "code",
   "execution_count": 1,
   "metadata": {},
   "outputs": [],
   "source": [
    "import pandas as pd\n",
    "import numpy\n",
    "import math"
   ]
  },
  {
   "cell_type": "code",
   "execution_count": 2,
   "metadata": {},
   "outputs": [],
   "source": [
    "train_df = pd.read_csv('train.csv')\n",
    "test_df = pd.read_csv('test.csv')"
   ]
  },
  {
   "cell_type": "code",
   "execution_count": 4,
   "metadata": {},
   "outputs": [
    {
     "data": {
      "text/html": [
       "<div>\n",
       "<style scoped>\n",
       "    .dataframe tbody tr th:only-of-type {\n",
       "        vertical-align: middle;\n",
       "    }\n",
       "\n",
       "    .dataframe tbody tr th {\n",
       "        vertical-align: top;\n",
       "    }\n",
       "\n",
       "    .dataframe thead th {\n",
       "        text-align: right;\n",
       "    }\n",
       "</style>\n",
       "<table border=\"1\" class=\"dataframe\">\n",
       "  <thead>\n",
       "    <tr style=\"text-align: right;\">\n",
       "      <th></th>\n",
       "      <th>buying</th>\n",
       "      <th>maint</th>\n",
       "      <th>doors</th>\n",
       "      <th>persons</th>\n",
       "      <th>lug_boot</th>\n",
       "      <th>safety</th>\n",
       "      <th>label</th>\n",
       "    </tr>\n",
       "  </thead>\n",
       "  <tbody>\n",
       "    <tr>\n",
       "      <th>0</th>\n",
       "      <td>low</td>\n",
       "      <td>vhigh</td>\n",
       "      <td>3</td>\n",
       "      <td>4</td>\n",
       "      <td>med</td>\n",
       "      <td>med</td>\n",
       "      <td>unacc</td>\n",
       "    </tr>\n",
       "    <tr>\n",
       "      <th>1</th>\n",
       "      <td>low</td>\n",
       "      <td>med</td>\n",
       "      <td>2</td>\n",
       "      <td>more</td>\n",
       "      <td>small</td>\n",
       "      <td>low</td>\n",
       "      <td>unacc</td>\n",
       "    </tr>\n",
       "    <tr>\n",
       "      <th>2</th>\n",
       "      <td>vhigh</td>\n",
       "      <td>high</td>\n",
       "      <td>4</td>\n",
       "      <td>4</td>\n",
       "      <td>small</td>\n",
       "      <td>med</td>\n",
       "      <td>unacc</td>\n",
       "    </tr>\n",
       "    <tr>\n",
       "      <th>3</th>\n",
       "      <td>low</td>\n",
       "      <td>low</td>\n",
       "      <td>4</td>\n",
       "      <td>2</td>\n",
       "      <td>small</td>\n",
       "      <td>med</td>\n",
       "      <td>unacc</td>\n",
       "    </tr>\n",
       "    <tr>\n",
       "      <th>4</th>\n",
       "      <td>low</td>\n",
       "      <td>low</td>\n",
       "      <td>2</td>\n",
       "      <td>4</td>\n",
       "      <td>med</td>\n",
       "      <td>low</td>\n",
       "      <td>unacc</td>\n",
       "    </tr>\n",
       "    <tr>\n",
       "      <th>...</th>\n",
       "      <td>...</td>\n",
       "      <td>...</td>\n",
       "      <td>...</td>\n",
       "      <td>...</td>\n",
       "      <td>...</td>\n",
       "      <td>...</td>\n",
       "      <td>...</td>\n",
       "    </tr>\n",
       "    <tr>\n",
       "      <th>1377</th>\n",
       "      <td>high</td>\n",
       "      <td>med</td>\n",
       "      <td>2</td>\n",
       "      <td>4</td>\n",
       "      <td>med</td>\n",
       "      <td>low</td>\n",
       "      <td>unacc</td>\n",
       "    </tr>\n",
       "    <tr>\n",
       "      <th>1378</th>\n",
       "      <td>low</td>\n",
       "      <td>vhigh</td>\n",
       "      <td>4</td>\n",
       "      <td>4</td>\n",
       "      <td>small</td>\n",
       "      <td>med</td>\n",
       "      <td>unacc</td>\n",
       "    </tr>\n",
       "    <tr>\n",
       "      <th>1379</th>\n",
       "      <td>vhigh</td>\n",
       "      <td>vhigh</td>\n",
       "      <td>4</td>\n",
       "      <td>more</td>\n",
       "      <td>big</td>\n",
       "      <td>med</td>\n",
       "      <td>unacc</td>\n",
       "    </tr>\n",
       "    <tr>\n",
       "      <th>1380</th>\n",
       "      <td>high</td>\n",
       "      <td>low</td>\n",
       "      <td>2</td>\n",
       "      <td>2</td>\n",
       "      <td>med</td>\n",
       "      <td>med</td>\n",
       "      <td>unacc</td>\n",
       "    </tr>\n",
       "    <tr>\n",
       "      <th>1381</th>\n",
       "      <td>med</td>\n",
       "      <td>high</td>\n",
       "      <td>2</td>\n",
       "      <td>more</td>\n",
       "      <td>med</td>\n",
       "      <td>high</td>\n",
       "      <td>acc</td>\n",
       "    </tr>\n",
       "  </tbody>\n",
       "</table>\n",
       "<p>1382 rows × 7 columns</p>\n",
       "</div>"
      ],
      "text/plain": [
       "     buying  maint doors persons lug_boot safety  label\n",
       "0       low  vhigh     3       4      med    med  unacc\n",
       "1       low    med     2    more    small    low  unacc\n",
       "2     vhigh   high     4       4    small    med  unacc\n",
       "3       low    low     4       2    small    med  unacc\n",
       "4       low    low     2       4      med    low  unacc\n",
       "...     ...    ...   ...     ...      ...    ...    ...\n",
       "1377   high    med     2       4      med    low  unacc\n",
       "1378    low  vhigh     4       4    small    med  unacc\n",
       "1379  vhigh  vhigh     4    more      big    med  unacc\n",
       "1380   high    low     2       2      med    med  unacc\n",
       "1381    med   high     2    more      med   high    acc\n",
       "\n",
       "[1382 rows x 7 columns]"
      ]
     },
     "metadata": {},
     "output_type": "display_data"
    },
    {
     "data": {
      "text/plain": [
       "array(['unacc', 'good', 'acc', 'vgood'], dtype=object)"
      ]
     },
     "metadata": {},
     "output_type": "display_data"
    },
    {
     "data": {
      "text/plain": [
       "4"
      ]
     },
     "execution_count": 4,
     "metadata": {},
     "output_type": "execute_result"
    }
   ],
   "source": [
    "display(train_df)\n",
    "\n",
    "display(train_df['label'].unique())\n",
    "\n",
    "len(train_df['label'].unique())"
   ]
  },
  {
   "attachments": {},
   "cell_type": "markdown",
   "metadata": {},
   "source": [
    "1. In this problem, we will work with a modified version of the badges data we saw\n",
    "class. We are given names of the ML researchers along with features, and the task is\n",
    "to assign a positive or a negative label to their badge. There are four features:\n",
    "\n",
    "\n",
    "(a) is the length of the first name > 5 (lenFirst): Yes or No\n",
    "\n",
    "(b) is the length of the last name > 5 (lenLast): Yes or No\n",
    "\n",
    "(c) is the first letter of the first and last name same (sameFirst): Yes or No\n",
    "\n",
    "(d) the most frequent vowel that is not ‘u’ (vowel): a, e, i, o"
   ]
  },
  {
   "attachments": {},
   "cell_type": "markdown",
   "metadata": {},
   "source": [
    "(a) [5 points] How many possible functions are there to map these four features to\n",
    "a boolean decision? How many functions are consistent with the given training\n",
    "dataset?"
   ]
  },
  {
   "attachments": {},
   "cell_type": "markdown",
   "metadata": {},
   "source": [
    "There are 1024 possible functions and only one that fits the data (since the function is created from the data exactly)"
   ]
  },
  {
   "cell_type": "code",
   "execution_count": 6,
   "metadata": {},
   "outputs": [
    {
     "data": {
      "text/plain": [
       "1024"
      ]
     },
     "execution_count": 6,
     "metadata": {},
     "output_type": "execute_result"
    }
   ],
   "source": [
    "options = 2 * 2 * 2 * 4\n",
    "\n",
    "functions = options * options\n",
    "\n",
    "functions"
   ]
  },
  {
   "cell_type": "markdown",
   "metadata": {},
   "source": [
    "(b) [3 points] What is the entropy of the labels in this data? Remember that when\n",
    "calculating entropy, the base of the logarithm should be 2."
   ]
  },
  {
   "cell_type": "code",
   "execution_count": null,
   "metadata": {},
   "outputs": [],
   "source": [
    "Name lenFirst lenLast sameFirst vowel Badge\n",
    "Pieter Bartlett Yes Yes No e +ve\n",
    "George Berg Yes No No e −ve\n",
    "Hiroshi Motoda Yes Yes No o +ve\n",
    "Filippo Neri Yes No No i −ve\n",
    "Robert Roos Yes No Yes o +ve\n",
    "Satinder Singh Yes No Yes i +ve\n",
    "Maja Mataric No Yes Yes a +ve\n",
    "Arun Sharma No Yes No a −ve\n",
    "Michael Meystel Yes Yes Yes e −ve"
   ]
  },
  {
   "cell_type": "code",
   "execution_count": 3,
   "metadata": {},
   "outputs": [],
   "source": [
    "# initialise data of lists.\n",
    "data = {'Name':['Pieter Bartlett', 'George Berg', 'Hiroshi Motoda', 'Filippo Neri', 'Robert Roos', 'Satinder Singh', 'Maja Mataric', 'Arun Sharma', 'Michael Meystel'],\n",
    " 'lenFirst':['Yes','Yes','Yes','Yes','Yes','Yes','No','No','Yes'],\n",
    " 'lenLast':['Yes','No','Yes','No','No','No','Yes','Yes','Yes'],\n",
    " 'sameFirst':['No','No','No','No','Yes','Yes','Yes','No','Yes'],\n",
    " 'vowel':['e','e','o','i','o','i','a','a','e'],\n",
    " 'Badge':['+','-','+','-','+','+','+','-','-']}\n",
    " \n",
    "# Create DataFrame\n",
    "df = pd.DataFrame(data)\n",
    "df = df.set_index('Name')"
   ]
  },
  {
   "cell_type": "code",
   "execution_count": 7,
   "metadata": {},
   "outputs": [
    {
     "name": "stdout",
     "output_type": "stream",
     "text": [
      "+\n"
     ]
    }
   ],
   "source": [
    "print(df['Badge'].unique()[0])"
   ]
  },
  {
   "cell_type": "code",
   "execution_count": 32,
   "metadata": {},
   "outputs": [
    {
     "data": {
      "text/plain": [
       "Index(['lenLast', 'sameFirst', 'vowel', 'Badge'], dtype='object')"
      ]
     },
     "execution_count": 32,
     "metadata": {},
     "output_type": "execute_result"
    }
   ],
   "source": [
    "df.columns.drop(['lenFirst'])"
   ]
  },
  {
   "cell_type": "code",
   "execution_count": 17,
   "metadata": {},
   "outputs": [],
   "source": [
    "# def calc_entropy(df, predicted_column):\n",
    "#     if len(df[predicted_column].unique() == 2):\n",
    "#         correct = df[predicted_column].value_counts()[0]\n",
    "#         incorrect = len(df) - correct\n",
    "#         overall_total = len(df)\n",
    "#         if(incorrect == 0):\n",
    "#             overall_entropy = 0\n",
    "#         else:\n",
    "#             overall_entropy = -(correct/overall_total) * math.log((correct/overall_total),2) - (incorrect/overall_total) * math.log((incorrect/overall_total),2)\n",
    "#         for column in df.columns:\n",
    "#             temp_avg_entropy = 0\n",
    "#             for value in df[column].unique():\n",
    "#                 temp_df = df[df[column] == value]\n",
    "#                 #print(f\"{column}: {temp_df[predicted_column].value_counts()[0]}\")\n",
    "                \n",
    "#                 temp_correct = temp_df[predicted_column].value_counts()[0]\n",
    "#                 temp_incorrect = len(temp_df) - temp_correct\n",
    "#                 total = len(temp_df)\n",
    "#                 if(temp_incorrect == 0):\n",
    "#                     entropy = 0\n",
    "#                 else:\n",
    "#                     entropy = -(temp_correct/total) * math.log((temp_correct/total),2) - (temp_incorrect/total) * math.log((temp_incorrect/total),2)\n",
    "#                 #print(f\"For {value} in {column}: $$H(Badge) = -({temp_correct}/{total})log_2({temp_correct}/{total}) - ({temp_incorrect}/{total})log_2({temp_incorrect}/{total}) = {round(entropy, 2)}$$\")\n",
    "#                 temp_avg_entropy += (entropy * total)\n",
    "#             temp_avg_entropy = temp_avg_entropy / len(df)\n",
    "#             info_gain = overall_entropy - temp_avg_entropy\n",
    "#             print(f'{info_gain} {overall_entropy} {temp_avg_entropy}')\n",
    "            \n",
    "#     else:\n",
    "#         print('nah')\n",
    "\n"
   ]
  },
  {
   "cell_type": "code",
   "execution_count": 33,
   "metadata": {},
   "outputs": [],
   "source": [
    "def calc_entropy(df, predicted_column):\n",
    "    overall_entropy = 0\n",
    "    for label in df[predicted_column].unique():\n",
    "        correct = len(df[df[predicted_column] == label])\n",
    "        overall_total = len(df)\n",
    "        overall_entropy -= (correct/overall_total) * math.log((correct/overall_total),2)\n",
    "\n",
    "    for column in df.columns.drop([predicted_column]):\n",
    "        temp_avg_entropy = 0\n",
    "        for value in df[column].unique():\n",
    "            temp_df = df[df[column] == value]\n",
    "            #print(f\"{column}: {temp_df[predicted_column].value_counts()[0]}\")\n",
    "            temp_entropy = 0\n",
    "            for label in temp_df[predicted_column].unique():\n",
    "                temp_correct = len(temp_df[temp_df[predicted_column] == label])\n",
    "                temp_total = len(temp_df)\n",
    "                temp_entropy -= (temp_correct/temp_total) * math.log((temp_correct/temp_total),2)\n",
    "            #print(f\"For {value} in {column}: $$H(Badge) = -({temp_correct}/{total})log_2({temp_correct}/{total}) - ({temp_incorrect}/{total})log_2({temp_incorrect}/{total}) = {round(entropy, 2)}$$\")\n",
    "            temp_avg_entropy += (temp_entropy * temp_total)\n",
    "        temp_avg_entropy = temp_avg_entropy / len(df)\n",
    "\n",
    "        info_gain = overall_entropy - temp_avg_entropy\n",
    "        print(f'{info_gain} {overall_entropy} {temp_avg_entropy}')\n",
    "            "
   ]
  },
  {
   "cell_type": "code",
   "execution_count": 25,
   "metadata": {},
   "outputs": [],
   "source": [
    "def calc_collision_entropy(df, predicted_column):\n",
    "    overall_entropy = 0\n",
    "    for label in df[predicted_column].unique():\n",
    "        correct = len(df[df[predicted_column] == label])\n",
    "        overall_total = len(df)\n",
    "        overall_entropy += (correct/overall_total) * (correct/overall_total)\n",
    "    overall_entropy = -math.log(overall_entropy,2)\n",
    "    for column in df.columns:\n",
    "        temp_avg_entropy = 0\n",
    "        for value in df[column].unique():\n",
    "            temp_df = df[df[column] == value]\n",
    "            #print(f\"{column}: {temp_df[predicted_column].value_counts()[0]}\")\n",
    "            temp_entropy = 0\n",
    "            for label in temp_df[predicted_column].unique():\n",
    "                temp_correct = len(temp_df[temp_df[predicted_column] == label])\n",
    "                temp_total = len(temp_df)\n",
    "                temp_entropy += (temp_correct/temp_total) * (temp_correct/temp_total)\n",
    "            temp_entropy = -math.log(temp_entropy, 2)\n",
    "            #print(f\"For {value} in {column}: $$H(Badge) = -({temp_correct}/{total})log_2({temp_correct}/{total}) - ({temp_incorrect}/{total})log_2({temp_incorrect}/{total}) = {round(entropy, 2)}$$\")\n",
    "            temp_avg_entropy += (temp_entropy * temp_total)\n",
    "        temp_avg_entropy = temp_avg_entropy / len(df)\n",
    "\n",
    "        info_gain = overall_entropy - temp_avg_entropy\n",
    "        print(f'{info_gain} {overall_entropy} {temp_avg_entropy}')\n",
    "            "
   ]
  },
  {
   "cell_type": "code",
   "execution_count": 12,
   "metadata": {},
   "outputs": [
    {
     "data": {
      "text/plain": [
       "0.9910760598382222"
      ]
     },
     "execution_count": 12,
     "metadata": {},
     "output_type": "execute_result"
    }
   ],
   "source": [
    "temp_correct = 5\n",
    "temp_incorrect = 4\n",
    "total = 9\n",
    "\n",
    "entropy = -(temp_correct/total) * math.log((temp_correct/total),2) - (temp_incorrect/total) * math.log((temp_incorrect/total),2)\n",
    "\n",
    "entropy"
   ]
  },
  {
   "cell_type": "code",
   "execution_count": 36,
   "metadata": {},
   "outputs": [
    {
     "name": "stdout",
     "output_type": "stream",
     "text": [
      "0.0025652873671375698 0.9910760598382222 0.9885107724710847\n",
      "0.007214618474517542 0.9910760598382222 0.9838614413637047\n",
      "0.09109100760379174 0.9910760598382222 0.8999850522344305\n",
      "0.24053300404228128 0.9910760598382222 0.7505430557959409\n",
      "vowel\n"
     ]
    }
   ],
   "source": [
    "calc_entropy(df, 'Badge')"
   ]
  },
  {
   "cell_type": "code",
   "execution_count": 26,
   "metadata": {},
   "outputs": [
    {
     "name": "stdout",
     "output_type": "stream",
     "text": [
      "0.9822979982665411 0.9822979982665411 0.0\n",
      "0.0049673782239426645 0.9822979982665411 0.9773306200425984\n",
      "0.013733291803411873 0.9822979982665411 0.9685647064631292\n",
      "0.15681244508668413 0.9822979982665411 0.825485553179857\n",
      "0.25518791830378007 0.9822979982665411 0.727110079962761\n",
      "0.9822979982665411 0.9822979982665411 0.0\n"
     ]
    }
   ],
   "source": [
    "calc_collision_entropy(df, 'Badge')"
   ]
  },
  {
   "cell_type": "code",
   "execution_count": 27,
   "metadata": {},
   "outputs": [],
   "source": [
    "def buildID3(df, predicted_column, path, current_depth=0, tree=pd.DataFrame()):\n",
    "    #Calculate the overall entropy of the dataframe\n",
    "    \n",
    "\n",
    "    overall_entropy = 0\n",
    "    for label in df[predicted_column].unique():\n",
    "        correct = len(df[df[predicted_column] == label])\n",
    "        overall_total = len(df)\n",
    "        overall_entropy -= (correct/overall_total) * math.log((correct/overall_total),2)\n",
    "    if overall_entropy == 0:\n",
    "        path.at[current_depth] = label\n",
    "        #print(path)\n",
    "        temp = pd.DataFrame(path).T\n",
    "        #display(temp)\n",
    "        temp_tree = tree\n",
    "        tree = pd.concat([temp, temp_tree], axis=0, ignore_index=True)\n",
    "        display(tree)\n",
    "        \n",
    "    else:\n",
    "    #Find the next node\n",
    "        highest_gain = 0\n",
    "        for column in df.columns.drop([predicted_column]):\n",
    "            temp_avg_entropy = 0\n",
    "            for value in df[column].unique():\n",
    "                temp_df = df[df[column] == value]\n",
    "                #print(f\"{column}: {temp_df[predicted_column].value_counts()[0]}\")\n",
    "                temp_entropy = 0\n",
    "                for label in temp_df[predicted_column].unique():\n",
    "                    temp_correct = len(temp_df[temp_df[predicted_column] == label])\n",
    "                    temp_total = len(temp_df)\n",
    "                    temp_entropy -= (temp_correct/temp_total) * math.log((temp_correct/temp_total),2)\n",
    "                #print(f\"For {value} in {column}: $$H(Badge) = -({temp_correct}/{total})log_2({temp_correct}/{total}) - ({temp_incorrect}/{total})log_2({temp_incorrect}/{total}) = {round(entropy, 2)}$$\")\n",
    "                temp_avg_entropy += (temp_entropy * temp_total)\n",
    "            temp_avg_entropy = temp_avg_entropy / len(df)\n",
    "\n",
    "            info_gain = overall_entropy - temp_avg_entropy\n",
    "            if info_gain > highest_gain:\n",
    "                highest_gain = info_gain\n",
    "                split_on = column\n",
    "            #print(f'{info_gain} {overall_entropy} {temp_avg_entropy}')\n",
    "        path.at[current_depth] = split_on\n",
    "        current_depth += 1\n",
    "\n",
    "        for value in df[split_on].unique():\n",
    "            path.at[current_depth] = value\n",
    "            current_depth += 1\n",
    "            buildID3(df[df[split_on] == value], predicted_column, path, current_depth, tree)\n",
    "            path.at[current_depth] = ''\n",
    "            current_depth -= 1\n",
    "            path.at[current_depth] = ''\n",
    "    return tree\n"
   ]
  },
  {
   "cell_type": "code",
   "execution_count": 28,
   "metadata": {},
   "outputs": [
    {
     "name": "stderr",
     "output_type": "stream",
     "text": [
      "C:\\Users\\Hunter Rogers\\AppData\\Local\\Temp\\ipykernel_7256\\1646186794.py:1: FutureWarning: The default dtype for empty Series will be 'object' instead of 'float64' in a future version. Specify a dtype explicitly to silence this warning.\n",
      "  tree = buildID3(df, 'Badge', pd.Series())\n"
     ]
    },
    {
     "data": {
      "text/html": [
       "<div>\n",
       "<style scoped>\n",
       "    .dataframe tbody tr th:only-of-type {\n",
       "        vertical-align: middle;\n",
       "    }\n",
       "\n",
       "    .dataframe tbody tr th {\n",
       "        vertical-align: top;\n",
       "    }\n",
       "\n",
       "    .dataframe thead th {\n",
       "        text-align: right;\n",
       "    }\n",
       "</style>\n",
       "<table border=\"1\" class=\"dataframe\">\n",
       "  <thead>\n",
       "    <tr style=\"text-align: right;\">\n",
       "      <th></th>\n",
       "      <th>0</th>\n",
       "      <th>1</th>\n",
       "      <th>2</th>\n",
       "      <th>3</th>\n",
       "      <th>4</th>\n",
       "      <th>5</th>\n",
       "      <th>6</th>\n",
       "    </tr>\n",
       "  </thead>\n",
       "  <tbody>\n",
       "    <tr>\n",
       "      <th>0</th>\n",
       "      <td>vowel</td>\n",
       "      <td>e</td>\n",
       "      <td>lenLast</td>\n",
       "      <td>Yes</td>\n",
       "      <td>sameFirst</td>\n",
       "      <td>No</td>\n",
       "      <td>+</td>\n",
       "    </tr>\n",
       "  </tbody>\n",
       "</table>\n",
       "</div>"
      ],
      "text/plain": [
       "       0  1        2    3          4   5  6\n",
       "0  vowel  e  lenLast  Yes  sameFirst  No  +"
      ]
     },
     "metadata": {},
     "output_type": "display_data"
    },
    {
     "data": {
      "text/html": [
       "<div>\n",
       "<style scoped>\n",
       "    .dataframe tbody tr th:only-of-type {\n",
       "        vertical-align: middle;\n",
       "    }\n",
       "\n",
       "    .dataframe tbody tr th {\n",
       "        vertical-align: top;\n",
       "    }\n",
       "\n",
       "    .dataframe thead th {\n",
       "        text-align: right;\n",
       "    }\n",
       "</style>\n",
       "<table border=\"1\" class=\"dataframe\">\n",
       "  <thead>\n",
       "    <tr style=\"text-align: right;\">\n",
       "      <th></th>\n",
       "      <th>0</th>\n",
       "      <th>1</th>\n",
       "      <th>2</th>\n",
       "      <th>3</th>\n",
       "      <th>4</th>\n",
       "      <th>5</th>\n",
       "      <th>6</th>\n",
       "    </tr>\n",
       "  </thead>\n",
       "  <tbody>\n",
       "    <tr>\n",
       "      <th>0</th>\n",
       "      <td>vowel</td>\n",
       "      <td>e</td>\n",
       "      <td>lenLast</td>\n",
       "      <td>Yes</td>\n",
       "      <td>sameFirst</td>\n",
       "      <td>Yes</td>\n",
       "      <td>-</td>\n",
       "    </tr>\n",
       "  </tbody>\n",
       "</table>\n",
       "</div>"
      ],
      "text/plain": [
       "       0  1        2    3          4    5  6\n",
       "0  vowel  e  lenLast  Yes  sameFirst  Yes  -"
      ]
     },
     "metadata": {},
     "output_type": "display_data"
    },
    {
     "data": {
      "text/html": [
       "<div>\n",
       "<style scoped>\n",
       "    .dataframe tbody tr th:only-of-type {\n",
       "        vertical-align: middle;\n",
       "    }\n",
       "\n",
       "    .dataframe tbody tr th {\n",
       "        vertical-align: top;\n",
       "    }\n",
       "\n",
       "    .dataframe thead th {\n",
       "        text-align: right;\n",
       "    }\n",
       "</style>\n",
       "<table border=\"1\" class=\"dataframe\">\n",
       "  <thead>\n",
       "    <tr style=\"text-align: right;\">\n",
       "      <th></th>\n",
       "      <th>0</th>\n",
       "      <th>1</th>\n",
       "      <th>2</th>\n",
       "      <th>3</th>\n",
       "      <th>4</th>\n",
       "      <th>5</th>\n",
       "      <th>6</th>\n",
       "    </tr>\n",
       "  </thead>\n",
       "  <tbody>\n",
       "    <tr>\n",
       "      <th>0</th>\n",
       "      <td>vowel</td>\n",
       "      <td>e</td>\n",
       "      <td>lenLast</td>\n",
       "      <td>No</td>\n",
       "      <td>-</td>\n",
       "      <td></td>\n",
       "      <td></td>\n",
       "    </tr>\n",
       "  </tbody>\n",
       "</table>\n",
       "</div>"
      ],
      "text/plain": [
       "       0  1        2   3  4 5 6\n",
       "0  vowel  e  lenLast  No  -    "
      ]
     },
     "metadata": {},
     "output_type": "display_data"
    },
    {
     "data": {
      "text/html": [
       "<div>\n",
       "<style scoped>\n",
       "    .dataframe tbody tr th:only-of-type {\n",
       "        vertical-align: middle;\n",
       "    }\n",
       "\n",
       "    .dataframe tbody tr th {\n",
       "        vertical-align: top;\n",
       "    }\n",
       "\n",
       "    .dataframe thead th {\n",
       "        text-align: right;\n",
       "    }\n",
       "</style>\n",
       "<table border=\"1\" class=\"dataframe\">\n",
       "  <thead>\n",
       "    <tr style=\"text-align: right;\">\n",
       "      <th></th>\n",
       "      <th>0</th>\n",
       "      <th>1</th>\n",
       "      <th>2</th>\n",
       "      <th>3</th>\n",
       "      <th>4</th>\n",
       "      <th>5</th>\n",
       "      <th>6</th>\n",
       "    </tr>\n",
       "  </thead>\n",
       "  <tbody>\n",
       "    <tr>\n",
       "      <th>0</th>\n",
       "      <td>vowel</td>\n",
       "      <td>o</td>\n",
       "      <td>+</td>\n",
       "      <td></td>\n",
       "      <td></td>\n",
       "      <td></td>\n",
       "      <td></td>\n",
       "    </tr>\n",
       "  </tbody>\n",
       "</table>\n",
       "</div>"
      ],
      "text/plain": [
       "       0  1  2 3 4 5 6\n",
       "0  vowel  o  +        "
      ]
     },
     "metadata": {},
     "output_type": "display_data"
    },
    {
     "data": {
      "text/html": [
       "<div>\n",
       "<style scoped>\n",
       "    .dataframe tbody tr th:only-of-type {\n",
       "        vertical-align: middle;\n",
       "    }\n",
       "\n",
       "    .dataframe tbody tr th {\n",
       "        vertical-align: top;\n",
       "    }\n",
       "\n",
       "    .dataframe thead th {\n",
       "        text-align: right;\n",
       "    }\n",
       "</style>\n",
       "<table border=\"1\" class=\"dataframe\">\n",
       "  <thead>\n",
       "    <tr style=\"text-align: right;\">\n",
       "      <th></th>\n",
       "      <th>0</th>\n",
       "      <th>1</th>\n",
       "      <th>2</th>\n",
       "      <th>3</th>\n",
       "      <th>4</th>\n",
       "      <th>5</th>\n",
       "      <th>6</th>\n",
       "    </tr>\n",
       "  </thead>\n",
       "  <tbody>\n",
       "    <tr>\n",
       "      <th>0</th>\n",
       "      <td>vowel</td>\n",
       "      <td>i</td>\n",
       "      <td>sameFirst</td>\n",
       "      <td>No</td>\n",
       "      <td>-</td>\n",
       "      <td></td>\n",
       "      <td></td>\n",
       "    </tr>\n",
       "  </tbody>\n",
       "</table>\n",
       "</div>"
      ],
      "text/plain": [
       "       0  1          2   3  4 5 6\n",
       "0  vowel  i  sameFirst  No  -    "
      ]
     },
     "metadata": {},
     "output_type": "display_data"
    },
    {
     "data": {
      "text/html": [
       "<div>\n",
       "<style scoped>\n",
       "    .dataframe tbody tr th:only-of-type {\n",
       "        vertical-align: middle;\n",
       "    }\n",
       "\n",
       "    .dataframe tbody tr th {\n",
       "        vertical-align: top;\n",
       "    }\n",
       "\n",
       "    .dataframe thead th {\n",
       "        text-align: right;\n",
       "    }\n",
       "</style>\n",
       "<table border=\"1\" class=\"dataframe\">\n",
       "  <thead>\n",
       "    <tr style=\"text-align: right;\">\n",
       "      <th></th>\n",
       "      <th>0</th>\n",
       "      <th>1</th>\n",
       "      <th>2</th>\n",
       "      <th>3</th>\n",
       "      <th>4</th>\n",
       "      <th>5</th>\n",
       "      <th>6</th>\n",
       "    </tr>\n",
       "  </thead>\n",
       "  <tbody>\n",
       "    <tr>\n",
       "      <th>0</th>\n",
       "      <td>vowel</td>\n",
       "      <td>i</td>\n",
       "      <td>sameFirst</td>\n",
       "      <td>Yes</td>\n",
       "      <td>+</td>\n",
       "      <td></td>\n",
       "      <td></td>\n",
       "    </tr>\n",
       "  </tbody>\n",
       "</table>\n",
       "</div>"
      ],
      "text/plain": [
       "       0  1          2    3  4 5 6\n",
       "0  vowel  i  sameFirst  Yes  +    "
      ]
     },
     "metadata": {},
     "output_type": "display_data"
    },
    {
     "data": {
      "text/html": [
       "<div>\n",
       "<style scoped>\n",
       "    .dataframe tbody tr th:only-of-type {\n",
       "        vertical-align: middle;\n",
       "    }\n",
       "\n",
       "    .dataframe tbody tr th {\n",
       "        vertical-align: top;\n",
       "    }\n",
       "\n",
       "    .dataframe thead th {\n",
       "        text-align: right;\n",
       "    }\n",
       "</style>\n",
       "<table border=\"1\" class=\"dataframe\">\n",
       "  <thead>\n",
       "    <tr style=\"text-align: right;\">\n",
       "      <th></th>\n",
       "      <th>0</th>\n",
       "      <th>1</th>\n",
       "      <th>2</th>\n",
       "      <th>3</th>\n",
       "      <th>4</th>\n",
       "      <th>5</th>\n",
       "      <th>6</th>\n",
       "    </tr>\n",
       "  </thead>\n",
       "  <tbody>\n",
       "    <tr>\n",
       "      <th>0</th>\n",
       "      <td>vowel</td>\n",
       "      <td>a</td>\n",
       "      <td>sameFirst</td>\n",
       "      <td>Yes</td>\n",
       "      <td>+</td>\n",
       "      <td></td>\n",
       "      <td></td>\n",
       "    </tr>\n",
       "  </tbody>\n",
       "</table>\n",
       "</div>"
      ],
      "text/plain": [
       "       0  1          2    3  4 5 6\n",
       "0  vowel  a  sameFirst  Yes  +    "
      ]
     },
     "metadata": {},
     "output_type": "display_data"
    },
    {
     "data": {
      "text/html": [
       "<div>\n",
       "<style scoped>\n",
       "    .dataframe tbody tr th:only-of-type {\n",
       "        vertical-align: middle;\n",
       "    }\n",
       "\n",
       "    .dataframe tbody tr th {\n",
       "        vertical-align: top;\n",
       "    }\n",
       "\n",
       "    .dataframe thead th {\n",
       "        text-align: right;\n",
       "    }\n",
       "</style>\n",
       "<table border=\"1\" class=\"dataframe\">\n",
       "  <thead>\n",
       "    <tr style=\"text-align: right;\">\n",
       "      <th></th>\n",
       "      <th>0</th>\n",
       "      <th>1</th>\n",
       "      <th>2</th>\n",
       "      <th>3</th>\n",
       "      <th>4</th>\n",
       "      <th>5</th>\n",
       "      <th>6</th>\n",
       "    </tr>\n",
       "  </thead>\n",
       "  <tbody>\n",
       "    <tr>\n",
       "      <th>0</th>\n",
       "      <td>vowel</td>\n",
       "      <td>a</td>\n",
       "      <td>sameFirst</td>\n",
       "      <td>No</td>\n",
       "      <td>-</td>\n",
       "      <td></td>\n",
       "      <td></td>\n",
       "    </tr>\n",
       "  </tbody>\n",
       "</table>\n",
       "</div>"
      ],
      "text/plain": [
       "       0  1          2   3  4 5 6\n",
       "0  vowel  a  sameFirst  No  -    "
      ]
     },
     "metadata": {},
     "output_type": "display_data"
    }
   ],
   "source": [
    "tree = buildID3(df, 'Badge', pd.Series())"
   ]
  },
  {
   "cell_type": "code",
   "execution_count": 26,
   "metadata": {},
   "outputs": [
    {
     "data": {
      "text/html": [
       "<div>\n",
       "<style scoped>\n",
       "    .dataframe tbody tr th:only-of-type {\n",
       "        vertical-align: middle;\n",
       "    }\n",
       "\n",
       "    .dataframe tbody tr th {\n",
       "        vertical-align: top;\n",
       "    }\n",
       "\n",
       "    .dataframe thead th {\n",
       "        text-align: right;\n",
       "    }\n",
       "</style>\n",
       "<table border=\"1\" class=\"dataframe\">\n",
       "  <thead>\n",
       "    <tr style=\"text-align: right;\">\n",
       "      <th></th>\n",
       "    </tr>\n",
       "  </thead>\n",
       "  <tbody>\n",
       "  </tbody>\n",
       "</table>\n",
       "</div>"
      ],
      "text/plain": [
       "Empty DataFrame\n",
       "Columns: []\n",
       "Index: []"
      ]
     },
     "metadata": {},
     "output_type": "display_data"
    }
   ],
   "source": [
    "display(tree)"
   ]
  }
 ],
 "metadata": {
  "kernelspec": {
   "display_name": "Python 3",
   "language": "python",
   "name": "python3"
  },
  "language_info": {
   "codemirror_mode": {
    "name": "ipython",
    "version": 3
   },
   "file_extension": ".py",
   "mimetype": "text/x-python",
   "name": "python",
   "nbconvert_exporter": "python",
   "pygments_lexer": "ipython3",
   "version": "3.10.7"
  },
  "orig_nbformat": 4,
  "vscode": {
   "interpreter": {
    "hash": "4baccb1ae7c32577840eda8fe51c4c38d559d56b7d64b5a39353ad781f8d02a3"
   }
  }
 },
 "nbformat": 4,
 "nbformat_minor": 2
}
