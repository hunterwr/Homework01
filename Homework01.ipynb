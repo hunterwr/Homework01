{
 "cells": [
  {
   "cell_type": "code",
   "execution_count": 1,
   "metadata": {},
   "outputs": [],
   "source": [
    "# Homework 01\n",
    "# Hunter Rogers \n",
    "# Machine Learning"
   ]
  },
  {
   "cell_type": "code",
   "execution_count": 2,
   "metadata": {},
   "outputs": [],
   "source": [
    "import pandas as pd\n",
    "import numpy as np\n",
    "import math\n",
    "\n",
    "pd.set_option('display.max_rows', None)"
   ]
  },
  {
   "cell_type": "code",
   "execution_count": 2,
   "metadata": {},
   "outputs": [],
   "source": [
    "train_df = pd.read_csv('train.csv')\n",
    "test_df = pd.read_csv('test.csv')"
   ]
  },
  {
   "cell_type": "code",
   "execution_count": null,
   "metadata": {},
   "outputs": [],
   "source": [
    "display(train_df)\n",
    "\n",
    "display(train_df['label'].unique())\n",
    "\n",
    "len(train_df['label'].unique())"
   ]
  },
  {
   "attachments": {},
   "cell_type": "markdown",
   "metadata": {},
   "source": [
    "1. In this problem, we will work with a modified version of the badges data we saw\n",
    "class. We are given names of the ML researchers along with features, and the task is\n",
    "to assign a positive or a negative label to their badge. There are four features:\n",
    "\n",
    "\n",
    "(a) is the length of the first name > 5 (lenFirst): Yes or No\n",
    "\n",
    "(b) is the length of the last name > 5 (lenLast): Yes or No\n",
    "\n",
    "(c) is the first letter of the first and last name same (sameFirst): Yes or No\n",
    "\n",
    "(d) the most frequent vowel that is not ‘u’ (vowel): a, e, i, o"
   ]
  },
  {
   "attachments": {},
   "cell_type": "markdown",
   "metadata": {},
   "source": [
    "(a) [5 points] How many possible functions are there to map these four features to\n",
    "a boolean decision? How many functions are consistent with the given training\n",
    "dataset?"
   ]
  },
  {
   "attachments": {},
   "cell_type": "markdown",
   "metadata": {},
   "source": [
    "There are 1024 possible functions and only one that fits the data (since the function is created from the data exactly)"
   ]
  },
  {
   "cell_type": "code",
   "execution_count": 6,
   "metadata": {},
   "outputs": [
    {
     "data": {
      "text/plain": [
       "1024"
      ]
     },
     "execution_count": 6,
     "metadata": {},
     "output_type": "execute_result"
    }
   ],
   "source": [
    "options = 2 * 2 * 2 * 4\n",
    "\n",
    "functions = options * options\n",
    "\n",
    "functions"
   ]
  },
  {
   "cell_type": "markdown",
   "metadata": {},
   "source": [
    "(b) [3 points] What is the entropy of the labels in this data? Remember that when\n",
    "calculating entropy, the base of the logarithm should be 2."
   ]
  },
  {
   "cell_type": "code",
   "execution_count": null,
   "metadata": {},
   "outputs": [],
   "source": [
    "Name lenFirst lenLast sameFirst vowel Badge\n",
    "Pieter Bartlett Yes Yes No e +ve\n",
    "George Berg Yes No No e −ve\n",
    "Hiroshi Motoda Yes Yes No o +ve\n",
    "Filippo Neri Yes No No i −ve\n",
    "Robert Roos Yes No Yes o +ve\n",
    "Satinder Singh Yes No Yes i +ve\n",
    "Maja Mataric No Yes Yes a +ve\n",
    "Arun Sharma No Yes No a −ve\n",
    "Michael Meystel Yes Yes Yes e −ve"
   ]
  },
  {
   "cell_type": "code",
   "execution_count": 3,
   "metadata": {},
   "outputs": [],
   "source": [
    "# initialise data of lists.\n",
    "data = {'Name':['Pieter Bartlett', 'George Berg', 'Hiroshi Motoda', 'Filippo Neri', 'Robert Roos', 'Satinder Singh', 'Maja Mataric', 'Arun Sharma', 'Michael Meystel'],\n",
    " 'lenFirst':['Yes','Yes','Yes','Yes','Yes','Yes','No','No','Yes'],\n",
    " 'lenLast':['Yes','No','Yes','No','No','No','Yes','Yes','Yes'],\n",
    " 'sameFirst':['No','No','No','No','Yes','Yes','Yes','No','Yes'],\n",
    " 'vowel':['e','e','o','i','o','i','a','a','e'],\n",
    " 'Badge':['+','-','+','-','+','+','+','-','-']}\n",
    " \n",
    "# Create DataFrame\n",
    "df = pd.DataFrame(data)\n",
    "df = df.set_index('Name')"
   ]
  },
  {
   "cell_type": "code",
   "execution_count": 5,
   "metadata": {},
   "outputs": [],
   "source": [
    "# initialise data of lists.\n",
    "data = {'Name':['Pieter Bartlett', 'George Berg', 'Hiroshi Motoda', 'Filippo Neri', 'Robert Roos', 'Satinder Singh', 'Maja Mataric', 'Arun Sharma'],\n",
    " 'lenFirst':['Yes','Yes','Yes','Yes','Yes','Yes','No','No'],\n",
    " 'lenLast':['Yes','Yes','Yes','Yes','No','No','No','No'],\n",
    " 'sameFirst':['No','No','No','No','Yes','Yes','Yes','No'],\n",
    " 'vowel':['e','e','o','i','o','i','a','a'],\n",
    " 'Badge':['+','-','+','-','+','-','+','-']}\n",
    " \n",
    "# Create DataFrame\n",
    "df = pd.DataFrame(data)\n",
    "df = df.set_index('Name')"
   ]
  },
  {
   "cell_type": "code",
   "execution_count": null,
   "metadata": {},
   "outputs": [],
   "source": [
    "print(df['Badge'].unique()[0])"
   ]
  },
  {
   "cell_type": "code",
   "execution_count": 32,
   "metadata": {},
   "outputs": [
    {
     "data": {
      "text/plain": [
       "Index(['lenLast', 'sameFirst', 'vowel', 'Badge'], dtype='object')"
      ]
     },
     "execution_count": 32,
     "metadata": {},
     "output_type": "execute_result"
    }
   ],
   "source": [
    "df.columns.drop(['lenFirst'])"
   ]
  },
  {
   "cell_type": "code",
   "execution_count": 17,
   "metadata": {},
   "outputs": [],
   "source": [
    "# def calc_entropy(df, predicted_column):\n",
    "#     if len(df[predicted_column].unique() == 2):\n",
    "#         correct = df[predicted_column].value_counts()[0]\n",
    "#         incorrect = len(df) - correct\n",
    "#         overall_total = len(df)\n",
    "#         if(incorrect == 0):\n",
    "#             overall_entropy = 0\n",
    "#         else:\n",
    "#             overall_entropy = -(correct/overall_total) * math.log((correct/overall_total),2) - (incorrect/overall_total) * math.log((incorrect/overall_total),2)\n",
    "#         for column in df.columns:\n",
    "#             temp_avg_entropy = 0\n",
    "#             for value in df[column].unique():\n",
    "#                 temp_df = df[df[column] == value]\n",
    "#                 #print(f\"{column}: {temp_df[predicted_column].value_counts()[0]}\")\n",
    "                \n",
    "#                 temp_correct = temp_df[predicted_column].value_counts()[0]\n",
    "#                 temp_incorrect = len(temp_df) - temp_correct\n",
    "#                 total = len(temp_df)\n",
    "#                 if(temp_incorrect == 0):\n",
    "#                     entropy = 0\n",
    "#                 else:\n",
    "#                     entropy = -(temp_correct/total) * math.log((temp_correct/total),2) - (temp_incorrect/total) * math.log((temp_incorrect/total),2)\n",
    "#                 #print(f\"For {value} in {column}: $$H(Badge) = -({temp_correct}/{total})log_2({temp_correct}/{total}) - ({temp_incorrect}/{total})log_2({temp_incorrect}/{total}) = {round(entropy, 2)}$$\")\n",
    "#                 temp_avg_entropy += (entropy * total)\n",
    "#             temp_avg_entropy = temp_avg_entropy / len(df)\n",
    "#             info_gain = overall_entropy - temp_avg_entropy\n",
    "#             print(f'{info_gain} {overall_entropy} {temp_avg_entropy}')\n",
    "            \n",
    "#     else:\n",
    "#         print('nah')\n",
    "\n"
   ]
  },
  {
   "cell_type": "code",
   "execution_count": 6,
   "metadata": {},
   "outputs": [
    {
     "data": {
      "text/html": [
       "<div>\n",
       "<style scoped>\n",
       "    .dataframe tbody tr th:only-of-type {\n",
       "        vertical-align: middle;\n",
       "    }\n",
       "\n",
       "    .dataframe tbody tr th {\n",
       "        vertical-align: top;\n",
       "    }\n",
       "\n",
       "    .dataframe thead th {\n",
       "        text-align: right;\n",
       "    }\n",
       "</style>\n",
       "<table border=\"1\" class=\"dataframe\">\n",
       "  <thead>\n",
       "    <tr style=\"text-align: right;\">\n",
       "      <th></th>\n",
       "      <th>lenFirst</th>\n",
       "      <th>lenLast</th>\n",
       "      <th>sameFirst</th>\n",
       "      <th>vowel</th>\n",
       "      <th>Badge</th>\n",
       "    </tr>\n",
       "    <tr>\n",
       "      <th>Name</th>\n",
       "      <th></th>\n",
       "      <th></th>\n",
       "      <th></th>\n",
       "      <th></th>\n",
       "      <th></th>\n",
       "    </tr>\n",
       "  </thead>\n",
       "  <tbody>\n",
       "    <tr>\n",
       "      <th>Pieter Bartlett</th>\n",
       "      <td>Yes</td>\n",
       "      <td>Yes</td>\n",
       "      <td>No</td>\n",
       "      <td>e</td>\n",
       "      <td>+</td>\n",
       "    </tr>\n",
       "    <tr>\n",
       "      <th>George Berg</th>\n",
       "      <td>Yes</td>\n",
       "      <td>Yes</td>\n",
       "      <td>No</td>\n",
       "      <td>e</td>\n",
       "      <td>-</td>\n",
       "    </tr>\n",
       "    <tr>\n",
       "      <th>Hiroshi Motoda</th>\n",
       "      <td>Yes</td>\n",
       "      <td>Yes</td>\n",
       "      <td>No</td>\n",
       "      <td>o</td>\n",
       "      <td>+</td>\n",
       "    </tr>\n",
       "    <tr>\n",
       "      <th>Filippo Neri</th>\n",
       "      <td>Yes</td>\n",
       "      <td>Yes</td>\n",
       "      <td>No</td>\n",
       "      <td>i</td>\n",
       "      <td>-</td>\n",
       "    </tr>\n",
       "    <tr>\n",
       "      <th>Robert Roos</th>\n",
       "      <td>Yes</td>\n",
       "      <td>No</td>\n",
       "      <td>Yes</td>\n",
       "      <td>o</td>\n",
       "      <td>+</td>\n",
       "    </tr>\n",
       "    <tr>\n",
       "      <th>Satinder Singh</th>\n",
       "      <td>Yes</td>\n",
       "      <td>No</td>\n",
       "      <td>Yes</td>\n",
       "      <td>i</td>\n",
       "      <td>-</td>\n",
       "    </tr>\n",
       "    <tr>\n",
       "      <th>Maja Mataric</th>\n",
       "      <td>No</td>\n",
       "      <td>No</td>\n",
       "      <td>Yes</td>\n",
       "      <td>a</td>\n",
       "      <td>+</td>\n",
       "    </tr>\n",
       "    <tr>\n",
       "      <th>Arun Sharma</th>\n",
       "      <td>No</td>\n",
       "      <td>No</td>\n",
       "      <td>No</td>\n",
       "      <td>a</td>\n",
       "      <td>-</td>\n",
       "    </tr>\n",
       "  </tbody>\n",
       "</table>\n",
       "</div>"
      ],
      "text/plain": [
       "                lenFirst lenLast sameFirst vowel Badge\n",
       "Name                                                  \n",
       "Pieter Bartlett      Yes     Yes        No     e     +\n",
       "George Berg          Yes     Yes        No     e     -\n",
       "Hiroshi Motoda       Yes     Yes        No     o     +\n",
       "Filippo Neri         Yes     Yes        No     i     -\n",
       "Robert Roos          Yes      No       Yes     o     +\n",
       "Satinder Singh       Yes      No       Yes     i     -\n",
       "Maja Mataric          No      No       Yes     a     +\n",
       "Arun Sharma           No      No        No     a     -"
      ]
     },
     "metadata": {},
     "output_type": "display_data"
    }
   ],
   "source": [
    "display(df)"
   ]
  },
  {
   "cell_type": "code",
   "execution_count": 26,
   "metadata": {},
   "outputs": [
    {
     "name": "stdout",
     "output_type": "stream",
     "text": [
      "lenFirst 0.0 1.0 1.0\n",
      "lenLast 0.0 1.0 1.0\n",
      "sameFirst 0.04879494069539847 1.0 0.9512050593046015\n",
      "vowel 0.5 1.0 0.5\n"
     ]
    }
   ],
   "source": [
    "ent = calc_entropy(df, predicted_column='Badge')"
   ]
  },
  {
   "cell_type": "code",
   "execution_count": 10,
   "metadata": {},
   "outputs": [],
   "source": [
    "def calc_entropy(df, predicted_column):\n",
    "    overall_entropy = 0\n",
    "    for label in df[predicted_column].unique():\n",
    "        correct = len(df[df[predicted_column] == label])\n",
    "        overall_total = len(df)\n",
    "        overall_entropy -= (correct/overall_total) * math.log((correct/overall_total),2)\n",
    "\n",
    "    for column in df.columns.drop([predicted_column]):\n",
    "        temp_avg_entropy = 0\n",
    "        for value in df[column].unique():\n",
    "            temp_df = df[df[column] == value]\n",
    "            #print(f\"{column}: {temp_df[predicted_column].value_counts()[0]}\")\n",
    "            temp_entropy = 0\n",
    "            for label in temp_df[predicted_column].unique():\n",
    "                temp_correct = len(temp_df[temp_df[predicted_column] == label])\n",
    "                temp_total = len(temp_df)\n",
    "                temp_entropy -= (temp_correct/temp_total) * math.log((temp_correct/temp_total),2)\n",
    "            #print(f\"For {value} in {column}: $$H(Badge) = -({temp_correct}/{total})log_2({temp_correct}/{total}) - ({temp_incorrect}/{total})log_2({temp_incorrect}/{total}) = {round(entropy, 2)}$$\")\n",
    "            temp_avg_entropy += (temp_entropy * temp_total)\n",
    "        temp_avg_entropy = temp_avg_entropy / len(df)\n",
    "\n",
    "        info_gain = overall_entropy - temp_avg_entropy\n",
    "        print(f'{column} {info_gain} {overall_entropy} {temp_avg_entropy}')\n",
    "            "
   ]
  },
  {
   "cell_type": "code",
   "execution_count": 25,
   "metadata": {},
   "outputs": [],
   "source": [
    "def calc_collision_entropy(df, predicted_column):\n",
    "    overall_entropy = 0\n",
    "    for label in df[predicted_column].unique():\n",
    "        correct = len(df[df[predicted_column] == label])\n",
    "        overall_total = len(df)\n",
    "        overall_entropy += (correct/overall_total) * (correct/overall_total)\n",
    "    overall_entropy = -math.log(overall_entropy,2)\n",
    "    for column in df.columns:\n",
    "        temp_avg_entropy = 0\n",
    "        for value in df[column].unique():\n",
    "            temp_df = df[df[column] == value]\n",
    "            #print(f\"{column}: {temp_df[predicted_column].value_counts()[0]}\")\n",
    "            temp_entropy = 0\n",
    "            for label in temp_df[predicted_column].unique():\n",
    "                temp_correct = len(temp_df[temp_df[predicted_column] == label])\n",
    "                temp_total = len(temp_df)\n",
    "                temp_entropy += (temp_correct/temp_total) * (temp_correct/temp_total)\n",
    "            temp_entropy = -math.log(temp_entropy, 2)\n",
    "            #print(f\"For {value} in {column}: $$H(Badge) = -({temp_correct}/{total})log_2({temp_correct}/{total}) - ({temp_incorrect}/{total})log_2({temp_incorrect}/{total}) = {round(entropy, 2)}$$\")\n",
    "            temp_avg_entropy += (temp_entropy * temp_total)\n",
    "        temp_avg_entropy = temp_avg_entropy / len(df)\n",
    "\n",
    "        info_gain = overall_entropy - temp_avg_entropy\n",
    "        print(f'{info_gain} {overall_entropy} {temp_avg_entropy}')\n",
    "            "
   ]
  },
  {
   "cell_type": "code",
   "execution_count": null,
   "metadata": {},
   "outputs": [],
   "source": [
    "temp_correct = 5\n",
    "temp_incorrect = 4\n",
    "total = 9\n",
    "\n",
    "entropy = -(temp_correct/total) * math.log((temp_correct/total),2) - (temp_incorrect/total) * math.log((temp_incorrect/total),2)\n",
    "\n",
    "entropy"
   ]
  },
  {
   "cell_type": "code",
   "execution_count": null,
   "metadata": {},
   "outputs": [],
   "source": [
    "calc_entropy(df, 'Badge')"
   ]
  },
  {
   "cell_type": "code",
   "execution_count": null,
   "metadata": {},
   "outputs": [],
   "source": [
    "calc_collision_entropy(df, 'Badge')"
   ]
  },
  {
   "cell_type": "code",
   "execution_count": null,
   "metadata": {},
   "outputs": [],
   "source": [
    "df['Badge'].mode()"
   ]
  },
  {
   "cell_type": "code",
   "execution_count": 3,
   "metadata": {},
   "outputs": [
    {
     "name": "stderr",
     "output_type": "stream",
     "text": [
      "C:\\Users\\Hunter Rogers\\AppData\\Local\\Temp\\ipykernel_17764\\3566628735.py:1: FutureWarning: The default dtype for empty Series will be 'object' instead of 'float64' in a future version. Specify a dtype explicitly to silence this warning.\n",
      "  def buildID3(df, predicted_column, max_depth=5, path=pd.Series(), current_depth=0, tree=pd.DataFrame()):\n"
     ]
    }
   ],
   "source": [
    "def buildID3(df, predicted_column, max_depth=5, path=pd.Series(), current_depth=0, tree=pd.DataFrame()):\n",
    "    #Calculate the overall entropy of the dataframe\n",
    "    \n",
    "\n",
    "    overall_entropy = 0\n",
    "    for label in df[predicted_column].unique():\n",
    "        correct = len(df[df[predicted_column] == label])\n",
    "        overall_total = len(df)\n",
    "        overall_entropy -= (correct/overall_total) * math.log((correct/overall_total),2)\n",
    "    if overall_entropy == 0:\n",
    "        path.at[current_depth] = label\n",
    "        #print(path)\n",
    "        temp = pd.DataFrame(path).T\n",
    "        #display(temp)\n",
    "        tree = pd.concat([tree, temp], axis=0, ignore_index=True)\n",
    "    \n",
    "    elif (current_depth / 2) == max_depth:\n",
    "        path.at[current_depth] = df[predicted_column].mode()[0]\n",
    "        temp = pd.DataFrame(path).T\n",
    "        tree = pd.concat([tree, temp], axis=0, ignore_index=True)\n",
    "\n",
    "    else:\n",
    "    #Find the next node\n",
    "        highest_gain = 0\n",
    "        for column in df.columns.drop([predicted_column]):\n",
    "            temp_avg_entropy = 0\n",
    "            for value in df[column].unique():\n",
    "                temp_df = df[df[column] == value]\n",
    "                #print(f\"{column}: {temp_df[predicted_column].value_counts()[0]}\")\n",
    "                temp_entropy = 0\n",
    "                for label in temp_df[predicted_column].unique():\n",
    "                    temp_correct = len(temp_df[temp_df[predicted_column] == label])\n",
    "                    temp_total = len(temp_df)\n",
    "                    temp_entropy -= (temp_correct/temp_total) * math.log((temp_correct/temp_total),2)\n",
    "                #print(f\"For {value} in {column}: $$H(Badge) = -({temp_correct}/{total})log_2({temp_correct}/{total}) - ({temp_incorrect}/{total})log_2({temp_incorrect}/{total}) = {round(entropy, 2)}$$\")\n",
    "                temp_avg_entropy += (temp_entropy * temp_total)\n",
    "            temp_avg_entropy = temp_avg_entropy / len(df)\n",
    "\n",
    "            info_gain = overall_entropy - temp_avg_entropy\n",
    "            if info_gain > highest_gain:\n",
    "                highest_gain = info_gain\n",
    "                split_on = column\n",
    "            \n",
    "        print(f'Splitting on {split_on}. Information gain: {info_gain}')\n",
    "\n",
    "        path.at[current_depth] = split_on\n",
    "        current_depth += 1\n",
    "\n",
    "        for value in np.append(df[split_on].unique(), 'UNKNOWN'):\n",
    "            if value == 'UNKNOWN':\n",
    "                path.at[current_depth] = value\n",
    "                current_depth += 1\n",
    "                end_this_branch = int(current_depth/2)\n",
    "                tree = buildID3(df, predicted_column, end_this_branch, path, current_depth, tree)\n",
    "                path.at[current_depth] = ''\n",
    "                current_depth -= 1\n",
    "                path.at[current_depth] = ''\n",
    "            else:\n",
    "                path.at[current_depth] = value\n",
    "                current_depth += 1\n",
    "                tree = buildID3(df[df[split_on] == value], predicted_column, max_depth, path, current_depth, tree)\n",
    "                path.at[current_depth] = ''\n",
    "                current_depth -= 1\n",
    "                path.at[current_depth] = ''\n",
    "\n",
    "    return tree\n"
   ]
  },
  {
   "cell_type": "code",
   "execution_count": 52,
   "metadata": {},
   "outputs": [],
   "source": [
    "def predict(tree, test_df, predicted_column):\n",
    "    counter = 0\n",
    "    test_df['prediction'] = 'Unpredicted'\n",
    "    #print(len(test_df))\n",
    "    for i in range (0, len(tree)):\n",
    "        #temp_df = test_df[test_df[] == tree and test_df[] == tree and test_df[] == tree and test_df[] == tree and test_df[] == tree and test_df[] == tree]\n",
    "        temp_df = test_df\n",
    "        for row_num in range(0,int((len(tree.columns)+1)/2)):\n",
    "            #print(row_num)\n",
    "            if tree.iloc[i, row_num*2] not in test_df.columns:\n",
    "                #print(tree.iloc[i, row_num*2])\n",
    "                for index in temp_df.index:\n",
    "                    test_df['prediction'].loc[index] = tree.iloc[i, row_num*2]\n",
    "                break\n",
    "            else:\n",
    "                if len(temp_df[temp_df[tree.iloc[i, row_num*2]] == tree.iloc[i, row_num*2+1]]) > 0:\n",
    "                    temp_df = temp_df[temp_df[tree.iloc[i, row_num*2]] == tree.iloc[i, row_num*2+1]]\n",
    "                else:\n",
    "                    temp_df = temp_df[temp_df[tree.iloc[i, row_num*2]] == 'UNKNOWN']\n",
    "        counter += len(temp_df)\n",
    "    \n",
    "    most_common = test_df[predicted_column].mode()[0]\n",
    "    test_df['prediction'].replace(['Unpredicted'], [most_common], inplace=True)\n",
    "    #\n",
    "    max_depth = int((len(tree.columns)-1)/2)\n",
    "    return test_df, max_depth\n",
    "    \n",
    "        \n",
    "            "
   ]
  },
  {
   "cell_type": "code",
   "execution_count": 55,
   "metadata": {},
   "outputs": [],
   "source": [
    "def evaluate_model(df, predicted_column, prediction):\n",
    "    df['Diff'] = np.where(df[predicted_column] == df[prediction] , 'correct', 'incorrect')\n",
    "    accuracy = df['Diff'].value_counts()[0]/len(df)\n",
    "    print(f'Accuracy: {100 * round(accuracy, 4) } %')\n",
    "\n",
    "    return accuracy\n",
    "\n"
   ]
  },
  {
   "cell_type": "code",
   "execution_count": 5,
   "metadata": {},
   "outputs": [],
   "source": [
    "tree = buildID3(train_df, 'label', 200)"
   ]
  },
  {
   "cell_type": "code",
   "execution_count": 53,
   "metadata": {},
   "outputs": [],
   "source": [
    "predictions, max_depth = predict(tree, train_df, 'label')"
   ]
  },
  {
   "cell_type": "code",
   "execution_count": 56,
   "metadata": {},
   "outputs": [
    {
     "name": "stdout",
     "output_type": "stream",
     "text": [
      "Accuracy: 100.0 %\n"
     ]
    }
   ],
   "source": [
    "accuracy = evaluate_model(predictions, 'label', 'prediction')"
   ]
  },
  {
   "cell_type": "code",
   "execution_count": null,
   "metadata": {},
   "outputs": [],
   "source": [
    "display(tree)"
   ]
  },
  {
   "cell_type": "code",
   "execution_count": null,
   "metadata": {},
   "outputs": [],
   "source": [
    "#display(predictions.head(1000))\n",
    "\n",
    "\n",
    "\n",
    "print(np.append(predictions['prediction'].unique(), 'hi'))\n",
    "\n",
    "print(predictions['prediction'].value_counts())\n",
    "\n",
    "print(len(predictions))"
   ]
  },
  {
   "cell_type": "code",
   "execution_count": null,
   "metadata": {},
   "outputs": [],
   "source": [
    "display(predictions)"
   ]
  },
  {
   "cell_type": "code",
   "execution_count": null,
   "metadata": {},
   "outputs": [],
   "source": [
    "print"
   ]
  }
 ],
 "metadata": {
  "kernelspec": {
   "display_name": "Python 3",
   "language": "python",
   "name": "python3"
  },
  "language_info": {
   "codemirror_mode": {
    "name": "ipython",
    "version": 3
   },
   "file_extension": ".py",
   "mimetype": "text/x-python",
   "name": "python",
   "nbconvert_exporter": "python",
   "pygments_lexer": "ipython3",
   "version": "3.10.7"
  },
  "orig_nbformat": 4,
  "vscode": {
   "interpreter": {
    "hash": "4baccb1ae7c32577840eda8fe51c4c38d559d56b7d64b5a39353ad781f8d02a3"
   }
  }
 },
 "nbformat": 4,
 "nbformat_minor": 2
}
