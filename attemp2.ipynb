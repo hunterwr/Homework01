{
 "cells": [
  {
   "cell_type": "code",
   "execution_count": 2,
   "metadata": {},
   "outputs": [],
   "source": [
    "import pandas as pd\n",
    "import numpy as np\n",
    "import math"
   ]
  },
  {
   "cell_type": "code",
   "execution_count": 3,
   "metadata": {},
   "outputs": [],
   "source": [
    "# initialise data of lists.\n",
    "data = {'Name':['Pieter Bartlett', 'George Berg', 'Hiroshi Motoda', 'Filippo Neri', 'Robert Roos', 'Satinder Singh', 'Maja Mataric', 'Arun Sharma', 'Michael Meystel'],\n",
    " 'lenFirst':['Yes','Yes','Yes','Yes','Yes','Yes','No','No','Yes'],\n",
    " 'lenLast':['Yes','No','Yes','No','No','No','Yes','Yes','Yes'],\n",
    " 'sameFirst':['No','No','No','No','Yes','Yes','Yes','No','Yes'],\n",
    " 'vowel':['e','e','o','i','o','i','a','a','e'],\n",
    " 'Badge':['+','-','+','-','+','+','-','-','+']}\n",
    " \n",
    "# Create DataFrame\n",
    "df = pd.DataFrame(data)\n",
    "df = df.set_index('Name')"
   ]
  },
  {
   "cell_type": "code",
   "execution_count": null,
   "metadata": {},
   "outputs": [],
   "source": []
  },
  {
   "cell_type": "code",
   "execution_count": 4,
   "metadata": {},
   "outputs": [],
   "source": [
    "def calculate_entropy(predicted_column):\n",
    "    total = len(predicted_column)\n",
    "    counts = predicted_column.value_counts().to_list()\n",
    "    if len(counts) > 0:\n",
    "        entropy = -sum((count/total) * math.log2(count/total) for count in counts)\n",
    "    return entropy\n"
   ]
  },
  {
   "cell_type": "code",
   "execution_count": 5,
   "metadata": {},
   "outputs": [],
   "source": [
    "def calculate_info_gain(df, info_gain_column_name, predicted_column_name):\n",
    "    total_entropy = calculate_entropy(df[predicted_column_name])\n",
    "    weighted_entropies = []\n",
    "    for value in df[info_gain_column_name].unique():\n",
    "        subset_entropy = calculate_entropy(df[df[info_gain_column_name] == value][predicted_column_name])\n",
    "        weight = len(df[df[info_gain_column_name] == value])/len(df)\n",
    "        weighted_entropies.append(subset_entropy * weight)\n",
    "    info_gain = total_entropy - sum(weighted_entropies)\n",
    "    return info_gain"
   ]
  },
  {
   "cell_type": "code",
   "execution_count": 6,
   "metadata": {},
   "outputs": [],
   "source": [
    "def ID3(df, original_df, features, predicted_column, parent_node=None):\n",
    "    if len(df[predicted_column].unique()) <= 1:\n",
    "        return df[predicted_column].unique()[0]\n",
    "\n",
    "    elif len(df) == 0:\n",
    "        return original_df[predicted_column].unique()[original_df[predicted_column].value_counts().argmax()]\n",
    "    \n",
    "    else:\n",
    "        parent_node = df[predicted_column].unique()[df[predicted_column].value_counts().argmax()]\n",
    "    \n",
    "    gains = [calculate_info_gain(df, feature, predicted_column) for feature in features]\n",
    "    best_feature_index = np.argmax(gains)\n",
    "    best_feature = features[best_feature_index]\n",
    "\n",
    "    tree = {best_feature: {}}\n",
    "\n",
    "    features = features.drop(best_feature)\n",
    "\n",
    "    for value in df[best_feature].unique():\n",
    "         #value = value\n",
    "         sub_df = df[df[best_feature] == value]\n",
    "         sub_tree = ID3(sub_df, df, features, predicted_column, parent_node)\n",
    "         tree[best_feature][value] = sub_tree\n",
    "\n",
    "    return tree\n",
    "\n"
   ]
  },
  {
   "cell_type": "code",
   "execution_count": 10,
   "metadata": {},
   "outputs": [
    {
     "data": {
      "text/plain": [
       "Index(['lenFirst', 'lenLast', 'sameFirst', 'vowel'], dtype='object')"
      ]
     },
     "execution_count": 10,
     "metadata": {},
     "output_type": "execute_result"
    }
   ],
   "source": [
    "df.columns.drop('Badge')"
   ]
  },
  {
   "cell_type": "code",
   "execution_count": 7,
   "metadata": {},
   "outputs": [],
   "source": [
    "def predict(query, tree, default=1):\n",
    "    for key in list(query.keys()):\n",
    "        if key in list(tree.keys()):\n",
    "            try:\n",
    "                result = tree[key][query[key]]\n",
    "            except:\n",
    "                return default\n",
    "            result = tree[key][query[key]]\n",
    "            if isinstance(result, dict):\n",
    "                return(predict(query, result))\n",
    "            else:\n",
    "                return result"
   ]
  },
  {
   "cell_type": "code",
   "execution_count": 8,
   "metadata": {},
   "outputs": [
    {
     "name": "stdout",
     "output_type": "stream",
     "text": [
      "{'vowel': {'e': {'lenLast': {'Yes': '+', 'No': '-'}}, 'o': '+', 'i': {'sameFirst': {'No': '-', 'Yes': '+'}}, 'a': '-'}}\n"
     ]
    }
   ],
   "source": [
    "tree = ID3(df, df, df.columns.drop('Badge'), 'Badge')\n",
    "\n",
    "print(tree)"
   ]
  },
  {
   "cell_type": "code",
   "execution_count": 9,
   "metadata": {},
   "outputs": [
    {
     "name": "stdout",
     "output_type": "stream",
     "text": [
      "  predicted\n",
      "0         +\n",
      "1         -\n",
      "2         +\n",
      "3         -\n",
      "4         +\n",
      "5         +\n",
      "6         -\n",
      "7         -\n",
      "8         +\n"
     ]
    }
   ],
   "source": [
    "def test(data, tree):\n",
    "    queries = data.iloc[:,:-1].to_dict(orient='records')\n",
    "    predicted = pd.DataFrame(columns=['predicted'])\n",
    "\n",
    "    for i in range(len(df)):\n",
    "        predicted.loc[i, 'predicted'] = predict(queries[i],tree,1.0)\n",
    "    return predicted\n",
    "\n",
    "stuff = test(df, tree)\n",
    "print(stuff)"
   ]
  },
  {
   "cell_type": "code",
   "execution_count": 20,
   "metadata": {},
   "outputs": [],
   "source": [
    "def calculate_accuracy(predictions, df_labels): \n",
    "    correct = np.sum(predictions == df_labels)\n",
    "    total = len(df_labels)\n",
    "    return round((correct / total), 3)\n"
   ]
  },
  {
   "cell_type": "code",
   "execution_count": 21,
   "metadata": {},
   "outputs": [
    {
     "name": "stdout",
     "output_type": "stream",
     "text": [
      "1.0\n"
     ]
    }
   ],
   "source": [
    "correct = calculate_accuracy(stuff['predicted'].reset_index(drop=True), df['Badge'].reset_index(drop=True))\n",
    "print(correct)"
   ]
  },
  {
   "cell_type": "code",
   "execution_count": 6,
   "metadata": {},
   "outputs": [
    {
     "data": {
      "text/plain": [
       "0.7642045065086203"
      ]
     },
     "metadata": {},
     "output_type": "display_data"
    },
    {
     "name": "stdout",
     "output_type": "stream",
     "text": [
      "0.7642045065086203\n"
     ]
    }
   ],
   "source": [
    "output = calculate_entropy(df['Badge'])\n",
    "display(output)\n",
    "\n",
    "stuff = calculate_info_gain(df, 'lenFirst', 'Badge')\n",
    "\n",
    "\n",
    "\n",
    "\n",
    "print(stuff)\n",
    "\n"
   ]
  }
 ],
 "metadata": {
  "kernelspec": {
   "display_name": "Python 3",
   "language": "python",
   "name": "python3"
  },
  "language_info": {
   "codemirror_mode": {
    "name": "ipython",
    "version": 3
   },
   "file_extension": ".py",
   "mimetype": "text/x-python",
   "name": "python",
   "nbconvert_exporter": "python",
   "pygments_lexer": "ipython3",
   "version": "3.10.10"
  },
  "orig_nbformat": 4,
  "vscode": {
   "interpreter": {
    "hash": "bc816d8e426fe616fe65e3e533b3a5ac980db8a3cd9a2aa4e549e9c05f63913d"
   }
  }
 },
 "nbformat": 4,
 "nbformat_minor": 2
}
