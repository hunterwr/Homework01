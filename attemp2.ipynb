{
 "cells": [
  {
   "cell_type": "code",
   "execution_count": 2,
   "metadata": {},
   "outputs": [],
   "source": [
    "import pandas as pd\n",
    "import numpy as np\n",
    "import math"
   ]
  },
  {
   "cell_type": "code",
   "execution_count": 3,
   "metadata": {},
   "outputs": [],
   "source": [
    "# initialise data of lists.\n",
    "data = {'Name':['Pieter Bartlett', 'George Berg', 'Hiroshi Motoda', 'Filippo Neri', 'Robert Roos', 'Satinder Singh', 'Maja Mataric', 'Arun Sharma', 'Michael Meystel'],\n",
    " 'lenFirst':['Yes','Yes','Yes','Yes','Yes','Yes','No','No','Yes'],\n",
    " 'lenLast':['Yes','No','Yes','No','No','No','Yes','Yes','Yes'],\n",
    " 'sameFirst':['No','No','No','No','Yes','Yes','Yes','No','Yes'],\n",
    " 'vowel':['e','e','o','i','o','i','a','a','e'],\n",
    " 'Badge':['+','+','+','+','+','+','-','-','+']}\n",
    " \n",
    "# Create DataFrame\n",
    "df = pd.DataFrame(data)\n",
    "df = df.set_index('Name')"
   ]
  },
  {
   "cell_type": "code",
   "execution_count": null,
   "metadata": {},
   "outputs": [],
   "source": []
  },
  {
   "cell_type": "code",
   "execution_count": 4,
   "metadata": {},
   "outputs": [],
   "source": [
    "def calculate_entropy(predicted_column):\n",
    "    total = len(predicted_column)\n",
    "    counts = predicted_column.value_counts().to_list()\n",
    "    if len(counts) > 0:\n",
    "        entropy = -sum((count/total) * math.log2(count/total) for count in counts)\n",
    "    return entropy\n"
   ]
  },
  {
   "cell_type": "code",
   "execution_count": 5,
   "metadata": {},
   "outputs": [],
   "source": [
    "def calculate_info_gain(df, info_gain_column_name, predicted_column_name):\n",
    "    total_entropy = calculate_entropy(df[predicted_column_name])\n",
    "    weighted_entropies = []\n",
    "    for value in df[info_gain_column_name].unique():\n",
    "        subset_entropy = calculate_entropy(df[df[info_gain_column_name] == value][predicted_column_name])\n",
    "        weight = len(df[df[info_gain_column_name] == value])/len(df)\n",
    "        weighted_entropies.append(subset_entropy * weight)\n",
    "    info_gain = total_entropy - sum(weighted_entropies)\n",
    "    return info_gain"
   ]
  },
  {
   "cell_type": "code",
   "execution_count": null,
   "metadata": {},
   "outputs": [],
   "source": [
    "def ID3(df, original_df, features, predicted_column, parent_node):\n",
    "    if len(df[predicted_column].unique()) <= 1:\n",
    "        return df[predicted_column].unique()[0]\n",
    "\n",
    "    elif len(df) == 0:\n",
    "        return max(original_df[predicted_column].value_counts())\n",
    "    \n",
    "    else:\n",
    "        pass\n",
    "        #return max(df[predicted_column].value_counts())\n",
    "    \n",
    "\n",
    "    gains = [calculate_info_gain(df, feature, predicted_column, parent_node) for feature in features]\n",
    "    best_feature = max(gains)\n",
    "\n",
    "    tree = {best_feature: {}}\n",
    "\n",
    "    #remove best feature from feature list\n",
    "\n",
    "    for value in df[best_feature].unique():\n",
    "         #value = value\n",
    "         sub_df = df[df[best_feature] == value]\n",
    "         sub_tree = ID3(sub_df, df, features, predicted_column, parent_node)"
   ]
  },
  {
   "cell_type": "code",
   "execution_count": 6,
   "metadata": {},
   "outputs": [
    {
     "data": {
      "text/plain": [
       "0.7642045065086203"
      ]
     },
     "metadata": {},
     "output_type": "display_data"
    },
    {
     "name": "stdout",
     "output_type": "stream",
     "text": [
      "0.7642045065086203\n"
     ]
    }
   ],
   "source": [
    "output = calculate_entropy(df['Badge'])\n",
    "display(output)\n",
    "\n",
    "stuff = calculate_info_gain(df, 'lenFirst', 'Badge')\n",
    "\n",
    "\n",
    "print(stuff)\n",
    "\n"
   ]
  }
 ],
 "metadata": {
  "kernelspec": {
   "display_name": "Python 3",
   "language": "python",
   "name": "python3"
  },
  "language_info": {
   "codemirror_mode": {
    "name": "ipython",
    "version": 3
   },
   "file_extension": ".py",
   "mimetype": "text/x-python",
   "name": "python",
   "nbconvert_exporter": "python",
   "pygments_lexer": "ipython3",
   "version": "3.10.7"
  },
  "orig_nbformat": 4,
  "vscode": {
   "interpreter": {
    "hash": "4baccb1ae7c32577840eda8fe51c4c38d559d56b7d64b5a39353ad781f8d02a3"
   }
  }
 },
 "nbformat": 4,
 "nbformat_minor": 2
}
