{
 "cells": [
  {
   "cell_type": "code",
   "execution_count": 2,
   "metadata": {},
   "outputs": [],
   "source": [
    "import pandas as pd\n",
    "import numpy as np\n",
    "import math"
   ]
  },
  {
   "cell_type": "code",
   "execution_count": 3,
   "metadata": {},
   "outputs": [],
   "source": [
    "# initialise data of lists.\n",
    "data = {'Name':['Pieter Bartlett', 'George Berg', 'Hiroshi Motoda', 'Filippo Neri', 'Robert Roos', 'Satinder Singh', 'Maja Mataric', 'Arun Sharma', 'Michael Meystel'],\n",
    " 'lenFirst':['Yes','Yes','Yes','Yes','Yes','Yes','No','No','Yes'],\n",
    " 'lenLast':['Yes','No','Yes','No','No','No','Yes','Yes','Yes'],\n",
    " 'sameFirst':['No','No','No','No','Yes','Yes','Yes','No','Yes'],\n",
    " 'vowel':['e','e','o','i','o','i','a','a','e'],\n",
    " 'Badge':['+','+','+','+','+','+','-','-','+']}\n",
    " \n",
    "# Create DataFrame\n",
    "df = pd.DataFrame(data)\n",
    "df = df.set_index('Name')"
   ]
  },
  {
   "cell_type": "code",
   "execution_count": null,
   "metadata": {},
   "outputs": [],
   "source": []
  },
  {
   "cell_type": "code",
   "execution_count": 4,
   "metadata": {},
   "outputs": [],
   "source": [
    "def calculate_entropy(predicted_column):\n",
    "    total = len(predicted_column)\n",
    "    counts = predicted_column.value_counts().to_list()\n",
    "    if len(counts) > 0:\n",
    "        entropy = -sum((count/total) * math.log2(count/total) for count in counts)\n",
    "    return entropy\n"
   ]
  },
  {
   "cell_type": "code",
   "execution_count": 5,
   "metadata": {},
   "outputs": [],
   "source": [
    "def calculate_info_gain(df, info_gain_column_name, predicted_column_name):\n",
    "    total_entropy = calculate_entropy(df[predicted_column_name])\n",
    "    weighted_entropies = []\n",
    "    for value in df[info_gain_column_name].unique():\n",
    "        subset_entropy = calculate_entropy(df[df[info_gain_column_name] == value][predicted_column_name])\n",
    "        weight = len(df[df[info_gain_column_name] == value])/len(df)\n",
    "        weighted_entropies.append(subset_entropy * weight)\n",
    "    info_gain = total_entropy - sum(weighted_entropies)\n",
    "    return info_gain"
   ]
  },
  {
   "cell_type": "code",
   "execution_count": 16,
   "metadata": {},
   "outputs": [],
   "source": [
    "def ID3_testing(df, original_df, features, predicted_column, parent_node=None):\n",
    "    if len(df[predicted_column].unique()) <= 1:\n",
    "        return df[predicted_column].unique()[0]\n",
    "\n",
    "    elif len(df) == 0:\n",
    "        return max(original_df[predicted_column].value_counts())\n",
    "    \n",
    "    else:\n",
    "        # parent_node = \n",
    "        # return df[predicted_column].unique()[max(df[predicted_column].value_counts())]\n",
    "        return np.unique(df[predicted_column])[np.argmax(np.unique(df[predicted_column], return_counts=True)[1])]"
   ]
  },
  {
   "cell_type": "code",
   "execution_count": 10,
   "metadata": {},
   "outputs": [
    {
     "data": {
      "text/plain": [
       "Index(['lenFirst', 'lenLast', 'sameFirst', 'vowel'], dtype='object')"
      ]
     },
     "execution_count": 10,
     "metadata": {},
     "output_type": "execute_result"
    }
   ],
   "source": [
    "df.columns.drop('Badge')"
   ]
  },
  {
   "cell_type": "code",
   "execution_count": 17,
   "metadata": {},
   "outputs": [
    {
     "ename": "IndexError",
     "evalue": "index 7 is out of bounds for axis 0 with size 2",
     "output_type": "error",
     "traceback": [
      "\u001b[1;31m---------------------------------------------------------------------------\u001b[0m",
      "\u001b[1;31mIndexError\u001b[0m                                Traceback (most recent call last)",
      "Cell \u001b[1;32mIn [17], line 1\u001b[0m\n\u001b[1;32m----> 1\u001b[0m stuff \u001b[39m=\u001b[39m ID3_testing(df, df, df\u001b[39m.\u001b[39;49mcolumns\u001b[39m.\u001b[39;49mdrop(\u001b[39m'\u001b[39;49m\u001b[39mBadge\u001b[39;49m\u001b[39m'\u001b[39;49m), \u001b[39m'\u001b[39;49m\u001b[39mBadge\u001b[39;49m\u001b[39m'\u001b[39;49m)\n\u001b[0;32m      3\u001b[0m \u001b[39mprint\u001b[39m(stuff)\n",
      "Cell \u001b[1;32mIn [16], line 10\u001b[0m, in \u001b[0;36mID3_testing\u001b[1;34m(df, original_df, features, predicted_column, parent_node)\u001b[0m\n\u001b[0;32m      6\u001b[0m     \u001b[39mreturn\u001b[39;00m \u001b[39mmax\u001b[39m(original_df[predicted_column]\u001b[39m.\u001b[39mvalue_counts())\n\u001b[0;32m      8\u001b[0m \u001b[39melse\u001b[39;00m:\n\u001b[0;32m      9\u001b[0m     \u001b[39m# parent_node = \u001b[39;00m\n\u001b[1;32m---> 10\u001b[0m     \u001b[39mreturn\u001b[39;00m df[predicted_column]\u001b[39m.\u001b[39;49munique()[\u001b[39mmax\u001b[39;49m(df[predicted_column]\u001b[39m.\u001b[39;49mvalue_counts())]\n",
      "\u001b[1;31mIndexError\u001b[0m: index 7 is out of bounds for axis 0 with size 2"
     ]
    }
   ],
   "source": [
    "stuff = ID3_testing(df, df, df.columns.drop('Badge'), 'Badge')\n",
    "\n",
    "print(stuff)"
   ]
  },
  {
   "cell_type": "code",
   "execution_count": 7,
   "metadata": {},
   "outputs": [],
   "source": [
    "def ID3(df, original_df, features, predicted_column, parent_node):\n",
    "    if len(df[predicted_column].unique()) <= 1:\n",
    "        return df[predicted_column].unique()[0]\n",
    "\n",
    "    elif len(df) == 0:\n",
    "        return max(original_df[predicted_column].value_counts())\n",
    "    \n",
    "    else:\n",
    "        parent_node = np.unique(df[predicted_column])[np.argmax(np.unique(df[predicted_column], return_counts=True)[1])]\n",
    "        #return max(df[predicted_column].value_counts())\n",
    "    \n",
    "\n",
    "    gains = [calculate_info_gain(df, feature, predicted_column, parent_node) for feature in features]\n",
    "    best_feature = max(gains)\n",
    "\n",
    "    tree = {best_feature: {}}\n",
    "\n",
    "    #remove best feature from feature list\n",
    "\n",
    "    for value in df[best_feature].unique():\n",
    "         #value = value\n",
    "         sub_df = df[df[best_feature] == value]\n",
    "         sub_tree = ID3(sub_df, df, features, predicted_column, parent_node)\n",
    "         tree[best_feature][value] = sub_tree"
   ]
  },
  {
   "cell_type": "code",
   "execution_count": null,
   "metadata": {},
   "outputs": [],
   "source": []
  },
  {
   "cell_type": "code",
   "execution_count": null,
   "metadata": {},
   "outputs": [],
   "source": [
    "def predict(query, tree, default=1):\n",
    "    for key in list(query.keys()):\n",
    "        if key in list(tree.keys()):\n",
    "            try:\n",
    "                result = tree[key][query[key]]\n",
    "            except:\n",
    "                return default\n",
    "            result = tree[key][query[key]]\n",
    "            if isinstance(result, dict):\n",
    "                return(predict(query, result))\n",
    "            else:\n",
    "                return result"
   ]
  },
  {
   "cell_type": "code",
   "execution_count": 6,
   "metadata": {},
   "outputs": [
    {
     "data": {
      "text/plain": [
       "0.7642045065086203"
      ]
     },
     "metadata": {},
     "output_type": "display_data"
    },
    {
     "name": "stdout",
     "output_type": "stream",
     "text": [
      "0.7642045065086203\n"
     ]
    }
   ],
   "source": [
    "output = calculate_entropy(df['Badge'])\n",
    "display(output)\n",
    "\n",
    "stuff = calculate_info_gain(df, 'lenFirst', 'Badge')\n",
    "\n",
    "\n",
    "print(stuff)\n",
    "\n"
   ]
  }
 ],
 "metadata": {
  "kernelspec": {
   "display_name": "Python 3",
   "language": "python",
   "name": "python3"
  },
  "language_info": {
   "codemirror_mode": {
    "name": "ipython",
    "version": 3
   },
   "file_extension": ".py",
   "mimetype": "text/x-python",
   "name": "python",
   "nbconvert_exporter": "python",
   "pygments_lexer": "ipython3",
   "version": "3.10.7"
  },
  "orig_nbformat": 4,
  "vscode": {
   "interpreter": {
    "hash": "4baccb1ae7c32577840eda8fe51c4c38d559d56b7d64b5a39353ad781f8d02a3"
   }
  }
 },
 "nbformat": 4,
 "nbformat_minor": 2
}
